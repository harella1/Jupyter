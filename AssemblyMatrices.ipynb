{
 "cells": [
  {
   "cell_type": "code",
   "execution_count": 5,
   "metadata": {
    "collapsed": false
   },
   "outputs": [
    {
     "ename": "ZeroDivisionError",
     "evalue": "float division by zero",
     "output_type": "error",
     "traceback": [
      "\u001b[0;31m---------------------------------------------------------------------------\u001b[0m",
      "\u001b[0;31mZeroDivisionError\u001b[0m                         Traceback (most recent call last)",
      "\u001b[0;32m<ipython-input-5-9ee237c164eb>\u001b[0m in \u001b[0;36m<module>\u001b[0;34m()\u001b[0m\n\u001b[1;32m     60\u001b[0m     \u001b[0max1\u001b[0m\u001b[1;33m.\u001b[0m\u001b[0maxis\u001b[0m\u001b[1;33m(\u001b[0m\u001b[1;34m'off'\u001b[0m\u001b[1;33m)\u001b[0m\u001b[1;33m\u001b[0m\u001b[0m\n\u001b[1;32m     61\u001b[0m     \u001b[0max1\u001b[0m\u001b[1;33m.\u001b[0m\u001b[0mset_title\u001b[0m\u001b[1;33m(\u001b[0m\u001b[1;34m'Interfaces'\u001b[0m\u001b[1;33m)\u001b[0m\u001b[1;33m\u001b[0m\u001b[0m\n\u001b[0;32m---> 62\u001b[0;31m     \u001b[0mthe_table\u001b[0m \u001b[1;33m=\u001b[0m \u001b[0max1\u001b[0m\u001b[1;33m.\u001b[0m\u001b[0mtable\u001b[0m\u001b[1;33m(\u001b[0m\u001b[0mcellText\u001b[0m\u001b[1;33m=\u001b[0m\u001b[0mInterfaces\u001b[0m\u001b[1;33m[\u001b[0m\u001b[0mpattern\u001b[0m\u001b[1;33m]\u001b[0m\u001b[1;33m,\u001b[0m \u001b[0mloc\u001b[0m\u001b[1;33m=\u001b[0m\u001b[1;34m'center'\u001b[0m\u001b[1;33m,\u001b[0m\u001b[0mcellLoc\u001b[0m\u001b[1;33m=\u001b[0m\u001b[1;34m'center'\u001b[0m\u001b[1;33m,\u001b[0m\u001b[0mrowLabels\u001b[0m\u001b[1;33m=\u001b[0m\u001b[0mx\u001b[0m\u001b[1;33m,\u001b[0m \u001b[0mcolLabels\u001b[0m\u001b[1;33m=\u001b[0m\u001b[0my\u001b[0m\u001b[1;33m,\u001b[0m\u001b[0mcellColours\u001b[0m\u001b[1;33m=\u001b[0m\u001b[0mplt\u001b[0m\u001b[1;33m.\u001b[0m\u001b[0mcm\u001b[0m\u001b[1;33m.\u001b[0m\u001b[0mhot\u001b[0m\u001b[1;33m(\u001b[0m\u001b[0mvals\u001b[0m\u001b[1;33m)\u001b[0m\u001b[1;33m)\u001b[0m\u001b[1;33m\u001b[0m\u001b[0m\n\u001b[0m\u001b[1;32m     63\u001b[0m     \u001b[1;31m#the_table.scale(1.5, 1.5)\u001b[0m\u001b[1;33m\u001b[0m\u001b[1;33m\u001b[0m\u001b[0m\n\u001b[1;32m     64\u001b[0m \u001b[1;33m\u001b[0m\u001b[0m\n",
      "\u001b[0;32mc:\\users\\ella\\python\\python35-32\\lib\\site-packages\\matplotlib\\axes\\_axes.py\u001b[0m in \u001b[0;36mtable\u001b[0;34m(self, **kwargs)\u001b[0m\n\u001b[1;32m   5657\u001b[0m         \u001b[1;33m%\u001b[0m\u001b[1;33m(\u001b[0m\u001b[0mTable\u001b[0m\u001b[1;33m)\u001b[0m\u001b[0ms\u001b[0m\u001b[1;33m\u001b[0m\u001b[0m\n\u001b[1;32m   5658\u001b[0m         \"\"\"\n\u001b[0;32m-> 5659\u001b[0;31m         \u001b[1;32mreturn\u001b[0m \u001b[0mmtable\u001b[0m\u001b[1;33m.\u001b[0m\u001b[0mtable\u001b[0m\u001b[1;33m(\u001b[0m\u001b[0mself\u001b[0m\u001b[1;33m,\u001b[0m \u001b[1;33m**\u001b[0m\u001b[0mkwargs\u001b[0m\u001b[1;33m)\u001b[0m\u001b[1;33m\u001b[0m\u001b[0m\n\u001b[0m\u001b[1;32m   5660\u001b[0m \u001b[1;33m\u001b[0m\u001b[0m\n\u001b[1;32m   5661\u001b[0m     \u001b[1;31m#### Data analysis\u001b[0m\u001b[1;33m\u001b[0m\u001b[1;33m\u001b[0m\u001b[0m\n",
      "\u001b[0;32mc:\\users\\ella\\python\\python35-32\\lib\\site-packages\\matplotlib\\table.py\u001b[0m in \u001b[0;36mtable\u001b[0;34m(ax, cellText, cellColours, cellLoc, colWidths, rowLabels, rowColours, rowLoc, colLabels, colColours, colLoc, loc, bbox, edges, **kwargs)\u001b[0m\n\u001b[1;32m    582\u001b[0m     \u001b[1;31m# Set colwidths if not given\u001b[0m\u001b[1;33m\u001b[0m\u001b[1;33m\u001b[0m\u001b[0m\n\u001b[1;32m    583\u001b[0m     \u001b[1;32mif\u001b[0m \u001b[0mcolWidths\u001b[0m \u001b[1;32mis\u001b[0m \u001b[1;32mNone\u001b[0m\u001b[1;33m:\u001b[0m\u001b[1;33m\u001b[0m\u001b[0m\n\u001b[0;32m--> 584\u001b[0;31m         \u001b[0mcolWidths\u001b[0m \u001b[1;33m=\u001b[0m \u001b[1;33m[\u001b[0m\u001b[1;36m1.0\u001b[0m \u001b[1;33m/\u001b[0m \u001b[0mcols\u001b[0m\u001b[1;33m]\u001b[0m \u001b[1;33m*\u001b[0m \u001b[0mcols\u001b[0m\u001b[1;33m\u001b[0m\u001b[0m\n\u001b[0m\u001b[1;32m    585\u001b[0m \u001b[1;33m\u001b[0m\u001b[0m\n\u001b[1;32m    586\u001b[0m     \u001b[1;31m# Fill in missing information for column\u001b[0m\u001b[1;33m\u001b[0m\u001b[1;33m\u001b[0m\u001b[0m\n",
      "\u001b[0;31mZeroDivisionError\u001b[0m: float division by zero"
     ]
    }
   ],
   "source": [
    "\n",
    "import clr\n",
    "import matplotlib\n",
    "import numpy as np\n",
    "import matplotlib.pyplot as plt\n",
    "from matplotlib.backends.backend_pdf import PdfPages\n",
    "clr.AddReference(\"System.Reflection\")\n",
    "from System.Reflection import Assembly\n",
    "\n",
    "assembly = Assembly.LoadFile(R\"C:\\Users\\Ella\\Downloads\\MatrixModel\\DesignPatterns\\DesignPatterns\\bin\\Debug\\DesignPatterns.exe\")\n",
    "alltypes = assembly.GetTypes()\n",
    "\n",
    "from collections import namedtuple\n",
    "Module = namedtuple(\"Module\",[\"Structors\",\"Functionals\",\"Interfaces\",\"Dependencies\"])\n",
    "\n",
    "excluded = ['ToString', 'Equals', 'GetHashCode', 'GetType']\n",
    "d = {}\n",
    "for item in alltypes:\n",
    "    if item.Namespace is None or 'Annotations' in item.Namespace or 'Program' in item.Name:\n",
    "        continue\n",
    "    else:\n",
    "        key = item.Namespace \n",
    "        if key not in d:\n",
    "            d[key] = Module([key],[],[],[])\n",
    "        itemMethods = [method for method in item.GetMethods() if method.Name not in excluded]\n",
    "        d[key].Structors.append(item.Name)\n",
    "        d[key].Functionals.extend([n.Name for n in itemMethods])\n",
    "        d[key].Interfaces.extend([(item.Name,n.Name) for n in itemMethods])\n",
    "        for method in itemMethods:\n",
    "            ps = [p for p in method.GetParameters()]\n",
    "            param = [paraminfo.ParameterType.Name for paraminfo in ps]\n",
    "            d[key].Dependencies.extend([(method.Name,par) for par in param if par and 'System' not in par])\n",
    "            body = method.GetMethodBody()\n",
    "            if body:\n",
    "                vars= [var.LocalType.Name for var in body.LocalVariables if var.LocalType and var.LocalType.FullName and 'System' not in var.LocalType.FullName]\n",
    "                d[key].Dependencies.extend([(method.Name,var)for var in vars])\n",
    "\n",
    "Interfaces = {}\n",
    "Dependencies = {}\n",
    "for pattern in d:\n",
    "    x = d[pattern].Structors\n",
    "    if len(x) == 0:\n",
    "        continue\n",
    "    y = list(set(d[pattern].Functionals))\n",
    "    Interfaces[pattern] = np.zeros((len(x),len(y)), dtype=np.int)\n",
    "    Dependencies[pattern] = np.zeros((len(x),len(y)), dtype=np.int)\n",
    "    for item,method in d[pattern].Interfaces:\n",
    "        Interfaces[pattern][x.index(item),y.index(method)] = 1\n",
    "    for method,item in list(set(d[pattern].Dependencies)):\n",
    "        if method in y and item in x:\n",
    "            Dependencies[pattern][x.index(item),y.index(method)] = 1\n",
    "\n",
    "    fig = plt.figure(figsize = (len(x)+1,len(y)))\n",
    "    fig.suptitle(pattern, fontsize=18)           \n",
    "    gs = matplotlib.gridspec.GridSpec(nrows=2,ncols=1,left=0.3)\n",
    "\n",
    "    vals = Interfaces[pattern]*-100+300\n",
    "\n",
    "    ax1 = fig.add_subplot(gs[0])\n",
    "    ax1.axis('off')\n",
    "    ax1.set_title('Interfaces')\n",
    "    the_table = ax1.table(cellText=Interfaces[pattern], loc='center',cellLoc='center',rowLabels=x, colLabels=y,cellColours=plt.cm.hot(vals))\n",
    "    #the_table.scale(1.5, 1.5)\n",
    "\n",
    "    vals = Dependencies[pattern]*-100+300\n",
    "    ax2 = fig.add_subplot(gs[1])\n",
    "    ax2.axis('off')\n",
    "    ax2.set_title('Dependencies')\n",
    "    the_table = ax2.table(cellText=Dependencies[pattern], loc='center',cellLoc='center',rowLabels=x, colLabels=y,cellColours=plt.cm.hot(vals))\n",
    "    #the_table.scale(1.5, 1.5)\n",
    "    #fig.subplots_adjust(left=0.3),colWidths=[0.15]*len(y),colWidths=[0.15]*len(y)\n",
    "    plt.savefig(pattern+'.pdf')"
   ]
  }
 ],
 "metadata": {
  "kernelspec": {
   "display_name": "Python 3",
   "language": "python",
   "name": "python3"
  },
  "language_info": {
   "codemirror_mode": {
    "name": "ipython",
    "version": 3
   },
   "file_extension": ".py",
   "mimetype": "text/x-python",
   "name": "python",
   "nbconvert_exporter": "python",
   "pygments_lexer": "ipython3",
   "version": "3.5.1"
  }
 },
 "nbformat": 4,
 "nbformat_minor": 2
}
