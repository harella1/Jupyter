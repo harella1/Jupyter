{
 "cells": [
  {
   "cell_type": "code",
   "execution_count": 1,
   "metadata": {
    "collapsed": true
   },
   "outputs": [],
   "source": [
    "\n",
    "import clr\n",
    "import numpy as np\n",
    "import matplotlib.pyplot as plt\n",
    "from matplotlib.backends.backend_pdf import PdfPages\n",
    "clr.AddReference(\"System.Reflection\")\n",
    "from System.Reflection import Assembly\n",
    "\n",
    "assembly = Assembly.LoadFile(R\"C:\\Users\\Ella\\Downloads\\MatrixModel\\DesignPatterns\\DesignPatterns\\bin\\Debug\\DesignPatterns.exe\")\n",
    "alltypes = assembly.GetTypes()\n",
    "\n",
    "from collections import namedtuple\n",
    "Module = namedtuple(\"Module\",[\"Structors\",\"Functionals\",\"Interfaces\",\"Dependencies\"])\n",
    "\n",
    "excluded = ['ToString', 'Equals', 'GetHashCode', 'GetType']\n",
    "d = {}\n",
    "for item in alltypes:\n",
    "    if item.Namespace is None or 'Annotations' in item.Namespace or 'Program' in item.Name:\n",
    "        continue\n",
    "    else:\n",
    "        key = item.Namespace \n",
    "        if key not in d:\n",
    "            d[key] = Module([key],[],[],[])\n",
    "        itemMethods = [method for method in item.GetMethods() if method.Name not in excluded]\n",
    "        d[key].Structors.append(item.Name)\n",
    "        d[key].Functionals.extend([n.Name for n in itemMethods])\n",
    "        d[key].Interfaces.extend([(item.Name,n.Name) for n in itemMethods])\n",
    "        for method in itemMethods:\n",
    "            ps = [p for p in method.GetParameters()]\n",
    "            param = [paraminfo.ParameterType.Name for paraminfo in ps]\n",
    "            d[key].Dependencies.extend([(method.Name,par) for par in param if par and 'System' not in par])\n",
    "            body = method.GetMethodBody()\n",
    "            if body:\n",
    "                vars= [var.LocalType.Name for var in body.LocalVariables if var.LocalType and var.LocalType.FullName and 'System' not in var.LocalType.FullName]\n",
    "                d[key].Dependencies.extend([(method.Name,var)for var in vars])\n",
    "\n",
    "pp = PdfPages('matrices.pdf')\n",
    "\n",
    "Interfaces = {}\n",
    "Dependencies = {}\n",
    "for pattern in d:\n",
    "    x = d[pattern].Structors\n",
    "    y = list(set(d[pattern].Functionals))\n",
    "    Interfaces[pattern] = np.zeros((len(x),len(y)), dtype=np.int)\n",
    "    Dependencies[pattern] = np.zeros((len(x),len(y)), dtype=np.int)\n",
    "    for item,method in d[pattern].Interfaces:\n",
    "        Interfaces[pattern][x.index(item),y.index(method)] = 1\n",
    "    for method,item in list(set(d[pattern].Dependencies)):\n",
    "        if method in y and item in x:\n",
    "            Dependencies[pattern][x.index(item),y.index(method)] = 1\n",
    "\n",
    "    plt.figure()\n",
    "    plt.suptitle(pattern, fontsize=12)\n",
    "    plt.subplot(121)\n",
    "    plt.title('Interfaces')\n",
    "    plt.table(cellText=Interfaces[pattern], rowLabels=x, colLabels=y, loc=(0,0), cellLoc='center')\n",
    "    plt.subplot(122)\n",
    "    plt.title('Dependencies')\n",
    "    plt.table(cellText=Dependencies[pattern], rowLabels=x, colLabels=y,loc=(0,0), cellLoc='center')\n",
    "    pp.savefig()\n",
    "\n",
    "pp.close()"
   ]
  }
 ],
 "metadata": {
  "kernelspec": {
   "display_name": "Python 3",
   "language": "python",
   "name": "python3"
  },
  "language_info": {
   "codemirror_mode": {
    "name": "ipython",
    "version": 3
   },
   "file_extension": ".py",
   "mimetype": "text/x-python",
   "name": "python",
   "nbconvert_exporter": "python",
   "pygments_lexer": "ipython3",
   "version": "3.5.1"
  }
 },
 "nbformat": 4,
 "nbformat_minor": 2
}
