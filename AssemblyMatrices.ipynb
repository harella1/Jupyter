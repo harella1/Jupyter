{
 "cells": [
  {
   "cell_type": "code",
   "execution_count": 4,
   "metadata": {
    "collapsed": true
   },
   "outputs": [],
   "source": [
    "import clr\n",
    "clr.AddReference(\"System.Reflection\")\n",
    "from System.Reflection import Assembly"
   ]
  },
  {
   "cell_type": "code",
   "execution_count": 5,
   "metadata": {
    "collapsed": false
   },
   "outputs": [],
   "source": [
    "assembly = Assembly.LoadFile(R\"C:\\Users\\Ella\\Downloads\\MatrixModel\\DesignPatterns\\DesignPatterns\\bin\\Debug\\DesignPatterns.exe\")\n",
    "alltypes = assembly.GetTypes()"
   ]
  },
  {
   "cell_type": "code",
   "execution_count": 6,
   "metadata": {
    "collapsed": true
   },
   "outputs": [],
   "source": [
    "from collections import namedtuple\n",
    "Module = namedtuple(\"Module\",[\"Interfaces\",\"Dependencies\"])"
   ]
  },
  {
   "cell_type": "code",
   "execution_count": 17,
   "metadata": {
    "collapsed": false
   },
   "outputs": [
    {
     "name": "stdout",
     "output_type": "stream",
     "text": [
      "('DesignPatterns', 'Program', 'ChainOfResponsibility')\n",
      "['ILogger']\n",
      "('DesignPatterns', 'Program', 'Command')\n",
      "['ICommand', 'FileOperationInvoker', 'IFileOperator']\n",
      "('DesignPatterns', 'Program', 'Interpreter')\n",
      "['Context', 'Melody', 'MidiPlayer']\n",
      "('DesignPatterns', 'Program', 'Strategy')\n",
      "['IResizer']\n",
      "('DesignPatterns', 'Program', 'Memento')\n",
      "['Caretaker', 'TextBox']\n",
      "('DesignPatterns', 'Program', 'Observer')\n",
      "['TimePulseBeeper', 'TimePulseWriter', 'TimePulseObservable']\n",
      "('DesignPatterns', 'Program', 'Iterator')\n",
      "['Node', 'BreadthFirstTree']\n",
      "('DesignPatterns', 'Program', 'Visitor')\n",
      "['ToTextVisitor', 'Substraction']\n",
      "('DesignPatterns', 'Program', 'AbstractFactory')\n",
      "['MercedesSportsCar', 'CarFactory', 'Driver', 'GenericFactory`1']\n",
      "('DesignPatterns', 'Program', 'Adapter')\n",
      "['Connector', 'TradingDataImporter']\n",
      "('DesignPatterns', 'Program', 'Bridge')\n",
      "['ClientDataObject', 'ProductDataObject', 'ProductRepository', 'ClientRepository']\n",
      "('DesignPatterns.Visitor', 'Addition', 'get_LeftOperand')\n",
      "[]\n",
      "('DesignPatterns.Visitor', 'Addition', 'get_RightOperand')\n",
      "[]\n",
      "('DesignPatterns.Visitor', 'Addition', 'Accpet')\n",
      "[]\n",
      "('DesignPatterns.Visitor', 'AlgebraicExpressions', 'Accpet')\n",
      "[]\n",
      "('DesignPatterns.Visitor', 'BinaryOperator', 'get_LeftOperand')\n",
      "[]\n",
      "('DesignPatterns.Visitor', 'BinaryOperator', 'get_RightOperand')\n",
      "[]\n",
      "('DesignPatterns.Visitor', 'BinaryOperator', 'Accpet')\n",
      "[]\n",
      "('DesignPatterns.Visitor', 'Division', 'get_LeftOperand')\n",
      "[]\n",
      "('DesignPatterns.Visitor', 'Division', 'get_RightOperand')\n",
      "[]\n",
      "('DesignPatterns.Visitor', 'Division', 'Accpet')\n",
      "[]\n",
      "('DesignPatterns.Visitor', 'ToValueVisitor', 'VisitNumber')\n",
      "[]\n",
      "('DesignPatterns.Visitor', 'ToValueVisitor', 'VisitNegation')\n",
      "[]\n",
      "('DesignPatterns.Visitor', 'ToValueVisitor', 'VisitAddition')\n",
      "[]\n",
      "('DesignPatterns.Visitor', 'ToValueVisitor', 'VisitSubstraction')\n",
      "[]\n",
      "('DesignPatterns.Visitor', 'ToValueVisitor', 'VisitMultiplication')\n",
      "[]\n",
      "('DesignPatterns.Visitor', 'ToValueVisitor', 'VisitDivision')\n",
      "[]\n",
      "('DesignPatterns.Visitor', 'ToValueVisitor', 'GetResult')\n",
      "[]\n",
      "('DesignPatterns.Visitor', 'ToTextVisitor', 'VisitNumber')\n",
      "[]\n",
      "('DesignPatterns.Visitor', 'ToTextVisitor', 'VisitNegation')\n",
      "[]\n",
      "('DesignPatterns.Visitor', 'ToTextVisitor', 'VisitAddition')\n",
      "[]\n",
      "('DesignPatterns.Visitor', 'ToTextVisitor', 'VisitSubstraction')\n",
      "[]\n",
      "('DesignPatterns.Visitor', 'ToTextVisitor', 'VisitMultiplication')\n",
      "[]\n",
      "('DesignPatterns.Visitor', 'ToTextVisitor', 'VisitDivision')\n",
      "[]\n",
      "('DesignPatterns.Visitor', 'ToTextVisitor', 'GetResult')\n",
      "[]\n",
      "('DesignPatterns.Visitor', 'Multiplication', 'get_LeftOperand')\n",
      "[]\n",
      "('DesignPatterns.Visitor', 'Multiplication', 'get_RightOperand')\n",
      "[]\n",
      "('DesignPatterns.Visitor', 'Multiplication', 'Accpet')\n",
      "[]\n",
      "('DesignPatterns.Visitor', 'Negation', 'get_Operand')\n",
      "[]\n",
      "('DesignPatterns.Visitor', 'Negation', 'Accpet')\n",
      "[]\n",
      "('DesignPatterns.Visitor', 'Number', 'get_Value')\n",
      "[]\n",
      "('DesignPatterns.Visitor', 'Number', 'Accpet')\n",
      "[]\n",
      "('DesignPatterns.Visitor', 'Substraction', 'get_LeftOperand')\n",
      "[]\n",
      "('DesignPatterns.Visitor', 'Substraction', 'get_RightOperand')\n",
      "[]\n",
      "('DesignPatterns.Visitor', 'Substraction', 'Accpet')\n",
      "[]\n",
      "('DesignPatterns.Visitor', 'UnaryOperator', 'get_Operand')\n",
      "[]\n",
      "('DesignPatterns.Visitor', 'UnaryOperator', 'Accpet')\n",
      "[]\n",
      "('DesignPatterns.Strategy', 'ArrayBasedCollection`1', 'GetEnumerator')\n"
     ]
    },
    {
     "ename": "TypeError",
     "evalue": "argument of type 'NoneType' is not iterable",
     "output_type": "error",
     "traceback": [
      "\u001b[0;31m---------------------------------------------------------------------------\u001b[0m",
      "\u001b[0;31mTypeError\u001b[0m                                 Traceback (most recent call last)",
      "\u001b[0;32m<ipython-input-17-525d42598200>\u001b[0m in \u001b[0;36m<module>\u001b[0;34m()\u001b[0m\n\u001b[1;32m     22\u001b[0m             \u001b[1;32mif\u001b[0m \u001b[0mbody\u001b[0m\u001b[1;33m:\u001b[0m\u001b[1;33m\u001b[0m\u001b[0m\n\u001b[1;32m     23\u001b[0m                 \u001b[0mprint\u001b[0m\u001b[1;33m(\u001b[0m\u001b[1;33m(\u001b[0m\u001b[0mkey\u001b[0m\u001b[1;33m,\u001b[0m\u001b[0mitem\u001b[0m\u001b[1;33m.\u001b[0m\u001b[0mName\u001b[0m\u001b[1;33m,\u001b[0m\u001b[0mmethod\u001b[0m\u001b[1;33m.\u001b[0m\u001b[0mName\u001b[0m\u001b[1;33m)\u001b[0m\u001b[1;33m)\u001b[0m\u001b[1;33m\u001b[0m\u001b[0m\n\u001b[0;32m---> 24\u001b[0;31m                 \u001b[0mvars\u001b[0m\u001b[1;33m=\u001b[0m \u001b[1;33m[\u001b[0m\u001b[0mvar\u001b[0m\u001b[1;33m.\u001b[0m\u001b[0mLocalType\u001b[0m\u001b[1;33m.\u001b[0m\u001b[0mName\u001b[0m \u001b[1;32mfor\u001b[0m \u001b[0mvar\u001b[0m \u001b[1;32min\u001b[0m \u001b[0mbody\u001b[0m\u001b[1;33m.\u001b[0m\u001b[0mLocalVariables\u001b[0m \u001b[1;32mif\u001b[0m \u001b[0mvar\u001b[0m\u001b[1;33m.\u001b[0m\u001b[0mLocalType\u001b[0m \u001b[1;32mand\u001b[0m \u001b[1;34m'System'\u001b[0m \u001b[1;32mnot\u001b[0m \u001b[1;32min\u001b[0m \u001b[0mvar\u001b[0m\u001b[1;33m.\u001b[0m\u001b[0mLocalType\u001b[0m\u001b[1;33m.\u001b[0m\u001b[0mFullName\u001b[0m\u001b[1;33m]\u001b[0m\u001b[1;33m\u001b[0m\u001b[0m\n\u001b[0m\u001b[1;32m     25\u001b[0m                 \u001b[0mvars\u001b[0m \u001b[1;33m=\u001b[0m \u001b[0mlist\u001b[0m\u001b[1;33m(\u001b[0m\u001b[0mset\u001b[0m\u001b[1;33m(\u001b[0m\u001b[0mvars\u001b[0m\u001b[1;33m)\u001b[0m\u001b[1;33m)\u001b[0m\u001b[1;33m\u001b[0m\u001b[0m\n\u001b[1;32m     26\u001b[0m                 \u001b[0mprint\u001b[0m\u001b[1;33m(\u001b[0m\u001b[0mvars\u001b[0m\u001b[1;33m)\u001b[0m\u001b[1;33m\u001b[0m\u001b[0m\n",
      "\u001b[0;32m<ipython-input-17-525d42598200>\u001b[0m in \u001b[0;36m<listcomp>\u001b[0;34m(.0)\u001b[0m\n\u001b[1;32m     22\u001b[0m             \u001b[1;32mif\u001b[0m \u001b[0mbody\u001b[0m\u001b[1;33m:\u001b[0m\u001b[1;33m\u001b[0m\u001b[0m\n\u001b[1;32m     23\u001b[0m                 \u001b[0mprint\u001b[0m\u001b[1;33m(\u001b[0m\u001b[1;33m(\u001b[0m\u001b[0mkey\u001b[0m\u001b[1;33m,\u001b[0m\u001b[0mitem\u001b[0m\u001b[1;33m.\u001b[0m\u001b[0mName\u001b[0m\u001b[1;33m,\u001b[0m\u001b[0mmethod\u001b[0m\u001b[1;33m.\u001b[0m\u001b[0mName\u001b[0m\u001b[1;33m)\u001b[0m\u001b[1;33m)\u001b[0m\u001b[1;33m\u001b[0m\u001b[0m\n\u001b[0;32m---> 24\u001b[0;31m                 \u001b[0mvars\u001b[0m\u001b[1;33m=\u001b[0m \u001b[1;33m[\u001b[0m\u001b[0mvar\u001b[0m\u001b[1;33m.\u001b[0m\u001b[0mLocalType\u001b[0m\u001b[1;33m.\u001b[0m\u001b[0mName\u001b[0m \u001b[1;32mfor\u001b[0m \u001b[0mvar\u001b[0m \u001b[1;32min\u001b[0m \u001b[0mbody\u001b[0m\u001b[1;33m.\u001b[0m\u001b[0mLocalVariables\u001b[0m \u001b[1;32mif\u001b[0m \u001b[0mvar\u001b[0m\u001b[1;33m.\u001b[0m\u001b[0mLocalType\u001b[0m \u001b[1;32mand\u001b[0m \u001b[1;34m'System'\u001b[0m \u001b[1;32mnot\u001b[0m \u001b[1;32min\u001b[0m \u001b[0mvar\u001b[0m\u001b[1;33m.\u001b[0m\u001b[0mLocalType\u001b[0m\u001b[1;33m.\u001b[0m\u001b[0mFullName\u001b[0m\u001b[1;33m]\u001b[0m\u001b[1;33m\u001b[0m\u001b[0m\n\u001b[0m\u001b[1;32m     25\u001b[0m                 \u001b[0mvars\u001b[0m \u001b[1;33m=\u001b[0m \u001b[0mlist\u001b[0m\u001b[1;33m(\u001b[0m\u001b[0mset\u001b[0m\u001b[1;33m(\u001b[0m\u001b[0mvars\u001b[0m\u001b[1;33m)\u001b[0m\u001b[1;33m)\u001b[0m\u001b[1;33m\u001b[0m\u001b[0m\n\u001b[1;32m     26\u001b[0m                 \u001b[0mprint\u001b[0m\u001b[1;33m(\u001b[0m\u001b[0mvars\u001b[0m\u001b[1;33m)\u001b[0m\u001b[1;33m\u001b[0m\u001b[0m\n",
      "\u001b[0;31mTypeError\u001b[0m: argument of type 'NoneType' is not iterable"
     ]
    }
   ],
   "source": [
    "excluded = ['ToString', 'Equals', 'GetHashCode', 'GetType']\n",
    "d = {}\n",
    "for item in alltypes:\n",
    "    if item.Namespace is None or 'Annotations' in item.Namespace:\n",
    "        continue\n",
    "    else:\n",
    "        key = item.Namespace \n",
    "        if key not in d:\n",
    "            d[key] = Module({}, {})\n",
    "        itemMethods = [method for method in item.GetMethods() if method.Name not in excluded]\n",
    "        if item.Name not in d[key].Interfaces:\n",
    "            d[key].Interfaces[item.Name] = []\n",
    "#        d[key].Interfaces[item.Name] += [n.Name for n in itemMethods]\n",
    "        \n",
    "        for method in itemMethods:\n",
    "            if method.Name not in d[key].Dependencies:\n",
    "                d[key].Dependencies[method.Name] = []\n",
    "            ps = [p for p in method.GetParameters()]\n",
    "            param = [paraminfo.ParameterType.Name for paraminfo in ps]\n",
    "            d[key].Dependencies[method.Name] += [par for par in param if par and 'System' not in par]\n",
    "            body = method.GetMethodBody()\n",
    "            if body:\n",
    "                print((key,item.Name,method.Name))\n",
    "                vars= [var.LocalType.Name for var in body.LocalVariables if var.LocalType and 'System' not in var.LocalType.FullName]\n",
    "                vars = list(set(vars))\n",
    "                print(vars)\n",
    "print (len(d.keys()))\n",
    "d"
   ]
  },
  {
   "cell_type": "code",
   "execution_count": null,
   "metadata": {
    "collapsed": true
   },
   "outputs": [],
   "source": []
  }
 ],
 "metadata": {
  "kernelspec": {
   "display_name": "Python 3",
   "language": "python",
   "name": "python3"
  },
  "language_info": {
   "codemirror_mode": {
    "name": "ipython",
    "version": 3
   },
   "file_extension": ".py",
   "mimetype": "text/x-python",
   "name": "python",
   "nbconvert_exporter": "python",
   "pygments_lexer": "ipython3",
   "version": "3.5.1"
  }
 },
 "nbformat": 4,
 "nbformat_minor": 2
}
