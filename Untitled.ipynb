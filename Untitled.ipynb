{
 "cells": [
  {
   "cell_type": "code",
   "execution_count": 20,
   "metadata": {
    "collapsed": true
   },
   "outputs": [],
   "source": [
    "sentence = 'Jim quickly realized that the beautiful gowns are expensive'\n",
    "import string\n",
    "count_letters = {}\n",
    "\n",
    "for l in sentence:\n",
    "    if l in string.ascii_letters:\n",
    "        if l not in count_letters:\n",
    "            count_letters[l] = 0\n",
    "        count_letters[l] += 1        "
   ]
  },
  {
   "cell_type": "code",
   "execution_count": 27,
   "metadata": {
    "collapsed": false
   },
   "outputs": [
    {
     "data": {
      "text/plain": [
       "{'J': 3,\n",
       " 'a': 12,\n",
       " 'b': 3,\n",
       " 'c': 3,\n",
       " 'd': 3,\n",
       " 'e': 24,\n",
       " 'f': 3,\n",
       " 'g': 3,\n",
       " 'h': 6,\n",
       " 'i': 15,\n",
       " 'k': 3,\n",
       " 'l': 9,\n",
       " 'm': 3,\n",
       " 'n': 6,\n",
       " 'o': 3,\n",
       " 'p': 3,\n",
       " 'q': 3,\n",
       " 'r': 6,\n",
       " 's': 6,\n",
       " 't': 12,\n",
       " 'u': 9,\n",
       " 'v': 3,\n",
       " 'w': 3,\n",
       " 'x': 3,\n",
       " 'y': 3,\n",
       " 'z': 3}"
      ]
     },
     "execution_count": 27,
     "metadata": {},
     "output_type": "execute_result"
    }
   ],
   "source": [
    "def in_circle(x, origin = [0]*2):\n",
    "   # Define your function here!\n",
    "   if distance(x,origin) < 1:\n",
    "        return True\n",
    "    else:\n",
    "        return False\n"
   ]
  }
 ],
 "metadata": {
  "kernelspec": {
   "display_name": "Python 3",
   "language": "python",
   "name": "python3"
  },
  "language_info": {
   "codemirror_mode": {
    "name": "ipython",
    "version": 3
   },
   "file_extension": ".py",
   "mimetype": "text/x-python",
   "name": "python",
   "nbconvert_exporter": "python",
   "pygments_lexer": "ipython3",
   "version": "3.5.1"
  }
 },
 "nbformat": 4,
 "nbformat_minor": 2
}
